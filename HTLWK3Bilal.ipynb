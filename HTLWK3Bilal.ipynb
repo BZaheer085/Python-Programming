{
 "cells": [
  {
   "cell_type": "markdown",
   "metadata": {},
   "source": [
    "Task 1 \n",
    "\n",
    "Write a program that allows you to enter 4 numbers\n",
    "and stores them in a file called “Numbers”\n",
    "3\n",
    "45\n",
    "83\n",
    "21\n",
    "Have a go at ‘w’ ‘r’ ‘a’"
   ]
  },
  {
   "cell_type": "code",
   "execution_count": 1,
   "metadata": {},
   "outputs": [],
   "source": [
    "my_file=open(\"Numbers.txt\", \"w\")\n",
    "f_number=input (\"Enter First Number \")\n",
    "s_number= input (\"Enter Second Number \")\n",
    "t_number= input (\"Enter Third Number \")\n",
    "l_number= input (\"Enter Last Number \")\n",
    "\n",
    "my_file.write(f_number)\n",
    "my_file.write(\"\\n\")\n",
    "my_file.write(s_number)\n",
    "my_file.write(\"\\n\")\n",
    "my_file.write(t_number)\n",
    "my_file.write(\"\\n\")\n",
    "my_file.write(l_number)\n",
    "\n",
    "my_file.close()\n",
    "\n"
   ]
  },
  {
   "cell_type": "markdown",
   "metadata": {},
   "source": [
    "Appending the file\n",
    "\n"
   ]
  },
  {
   "cell_type": "code",
   "execution_count": 8,
   "metadata": {},
   "outputs": [
    {
     "data": {
      "text/plain": [
       "1"
      ]
     },
     "execution_count": 8,
     "metadata": {},
     "output_type": "execute_result"
    }
   ],
   "source": [
    "my_file=open(\"Numbers.txt\", \"a\")\n",
    "f=input (\"Enter the content you want to add to the file 'Numbers' \")\n",
    "\n",
    "my_file.write(f)\n",
    "my_file.write(\"\\n\")"
   ]
  },
  {
   "cell_type": "markdown",
   "metadata": {},
   "source": [
    "Reading the file and printing the content of the file"
   ]
  },
  {
   "cell_type": "code",
   "execution_count": 6,
   "metadata": {},
   "outputs": [
    {
     "name": "stdout",
     "output_type": "stream",
     "text": [
      "56\n",
      "67\n",
      "80\n",
      "12021\n",
      "2021\n",
      "\n"
     ]
    }
   ],
   "source": [
    "my_file=open(\"Numbers.txt\", \"r\")\n",
    "\n",
    "print (my_file.read())"
   ]
  },
  {
   "cell_type": "markdown",
   "metadata": {},
   "source": [
    "Task 2\n",
    "\n",
    "Write a program to ask a student for their percentage mark and convert this to a grade.\n",
    "The conversion will be done in a function called mark_grade"
   ]
  },
  {
   "cell_type": "code",
   "execution_count": 4,
   "metadata": {},
   "outputs": [
    {
     "name": "stdout",
     "output_type": "stream",
     "text": [
      "Conversion from percentage mark to Grade \n",
      "\n",
      "Hello Bilal\n",
      "Your Grade is A+\n",
      "Target grade  A Percentage Marks  91 %\n",
      "Congratulations on your achievement, Target Grade is more than Exam Grade\n"
     ]
    }
   ],
   "source": [
    "print (\"Conversion from percentage mark to Grade\", \"\\n\")\n",
    "name= input (\"Enter your name \")\n",
    "print (\"Hello\", name)\n",
    "\n",
    "def mark_grade(marks):\n",
    "    if marks >=90 and marks < 101:\n",
    "        print (\"Your Grade is A+\")\n",
    "    elif marks >=80 and marks < 90:\n",
    "        print (\"Your Grade is A\")\n",
    "    elif marks >=75 and marks < 80:\n",
    "        print (\"Your Grade is B+\")\n",
    "    elif marks >69 and marks < 75:\n",
    "        print (\"Your Grade is B\")\n",
    "    elif marks > 64 and marks < 70:\n",
    "        print (\"Your Grade is C+\")\n",
    "    elif marks >54 and marks < 65:\n",
    "        print (\"Your Grade is C\")\n",
    "    elif marks >49 and marks < 60:\n",
    "        print (\"Your Grade is D\")\n",
    "    elif marks >39 and marks < 50:\n",
    "        print (\"Your Grade is E\")\n",
    "    elif marks >=0 and marks < 40:\n",
    "        print (\"Your Grade is F\")\n",
    "    else:\n",
    "        print (\"Error\")\n",
    "\n",
    "marks=int(input (\"Enter percentage marks between 0 and 100: \"))\n",
    "mark_grade(marks)\n",
    "\n",
    "target_grade= input(\"What's your target grade \")\n",
    "print (\"Target grade \",target_grade, \"Percentage Marks \",marks,\"%\")\n",
    "if target_grade == 'A+' or target_grade == 'a+':\n",
    "    print (\"Congratulations on your achievement, Target Grade is more than Exam Grade\")\n",
    "elif target_grade == 'A' or target_grade == 'a':\n",
    "        print (\"Congratulations on your achievement, Target Grade is more than Exam Grade\")\n",
    "elif target_grade == 'B+' or target_grade=='b+':\n",
    "    print (\"Congratulations! you have achieved the Exam Grade\")\n",
    "else:\n",
    "    print (\"Unfortunately you haven't been successful on this occassion\")\n",
    "\n"
   ]
  },
  {
   "cell_type": "markdown",
   "metadata": {},
   "source": [
    "Home Learning Project "
   ]
  },
  {
   "cell_type": "markdown",
   "metadata": {},
   "source": [
    "1. Creating a 1D array of numbers from 0 to 9"
   ]
  },
  {
   "cell_type": "code",
   "execution_count": 4,
   "metadata": {},
   "outputs": [
    {
     "name": "stdout",
     "output_type": "stream",
     "text": [
      "[0 1 2 3 4 5 6 7 8 9]\n"
     ]
    }
   ],
   "source": [
    "import numpy as np \n",
    "arr= np.arange(10)\n",
    "print (arr)"
   ]
  },
  {
   "cell_type": "markdown",
   "metadata": {},
   "source": [
    "2. Creating a 33×3 NumPy array of all Boolean value Trues"
   ]
  },
  {
   "cell_type": "code",
   "execution_count": 24,
   "metadata": {},
   "outputs": [
    {
     "name": "stdout",
     "output_type": "stream",
     "text": [
      "[[ True  True  True]\n",
      " [ True  True  True]\n",
      " [ True  True  True]\n",
      " [ True  True  True]\n",
      " [ True  True  True]\n",
      " [ True  True  True]\n",
      " [ True  True  True]\n",
      " [ True  True  True]\n",
      " [ True  True  True]\n",
      " [ True  True  True]\n",
      " [ True  True  True]\n",
      " [ True  True  True]\n",
      " [ True  True  True]\n",
      " [ True  True  True]\n",
      " [ True  True  True]\n",
      " [ True  True  True]\n",
      " [ True  True  True]\n",
      " [ True  True  True]\n",
      " [ True  True  True]\n",
      " [ True  True  True]\n",
      " [ True  True  True]\n",
      " [ True  True  True]\n",
      " [ True  True  True]\n",
      " [ True  True  True]\n",
      " [ True  True  True]\n",
      " [ True  True  True]\n",
      " [ True  True  True]\n",
      " [ True  True  True]\n",
      " [ True  True  True]\n",
      " [ True  True  True]\n",
      " [ True  True  True]\n",
      " [ True  True  True]\n",
      " [ True  True  True]]\n"
     ]
    }
   ],
   "source": [
    "import numpy as np\n",
    "arr= np.random.randint(1,5, size=(33,3))\n",
    "newarr= arr.astype(bool)\n",
    "print (newarr)"
   ]
  },
  {
   "cell_type": "markdown",
   "metadata": {},
   "source": [
    "3. Extract all odd numbers from array of 1 10"
   ]
  },
  {
   "cell_type": "code",
   "execution_count": 5,
   "metadata": {},
   "outputs": [
    {
     "name": "stdout",
     "output_type": "stream",
     "text": [
      "[1 3 5 7 9]\n"
     ]
    }
   ],
   "source": [
    "import numpy as np \n",
    "arr= np.arange(1,10,2)\n",
    "print (arr)"
   ]
  },
  {
   "cell_type": "markdown",
   "metadata": {},
   "source": [
    "4. Replace all odd numbers in an array of 1 10 with the value -1"
   ]
  },
  {
   "cell_type": "code",
   "execution_count": 25,
   "metadata": {},
   "outputs": [
    {
     "name": "stdout",
     "output_type": "stream",
     "text": [
      "[ 0  1  2  3  4  5  6  7  8  9 10]\n",
      "[ 0 -1  2 -1  4 -1  6 -1  8 -1 10]\n"
     ]
    }
   ],
   "source": [
    "import numpy as np \n",
    "arr= np.arange(0,11)\n",
    "print (arr)\n",
    "for i in range (1,len(arr),2):\n",
    "  arr[i]= '-1'\n",
    "print (arr)\n"
   ]
  },
  {
   "cell_type": "markdown",
   "metadata": {},
   "source": [
    "5. Convert a 1D array to a 2D array with 2 rows"
   ]
  },
  {
   "cell_type": "code",
   "execution_count": 43,
   "metadata": {},
   "outputs": [
    {
     "name": "stdout",
     "output_type": "stream",
     "text": [
      "[[1 2]\n",
      " [3 4]\n",
      " [6 7]\n",
      " [8 9]]\n"
     ]
    }
   ],
   "source": [
    "import numpy as np\n",
    "arr= np.array([1,2,3,4,6,7,8,9])\n",
    "newArray= arr.reshape(-1,2)\n",
    "print (newArray)"
   ]
  },
  {
   "cell_type": "markdown",
   "metadata": {},
   "source": [
    "6. Create two arrays a and b, stack these two arrays vertically use the np.dot and\n",
    "np.sum to calculate totals."
   ]
  },
  {
   "cell_type": "code",
   "execution_count": 95,
   "metadata": {},
   "outputs": [
    {
     "name": "stdout",
     "output_type": "stream",
     "text": [
      "[[ 1  2]\n",
      " [10 20]]\n",
      "[[ 5  6]\n",
      " [10 20]]\n",
      "Stacking two arrays vertically \n",
      "\n",
      "[[ 1  2]\n",
      " [10 20]\n",
      " [ 5  6]\n",
      " [10 20]]\n",
      "Matrix multiplication \n",
      "\n",
      "[[ 25  46]\n",
      " [250 460]]\n",
      "Sum \n",
      "  781\n"
     ]
    }
   ],
   "source": [
    "import numpy as np \n",
    "a= np.array([[1,2], [10,20]])\n",
    "print (a)\n",
    "b= np.array ([[5,6], [10,20]])\n",
    "print (b)\n",
    "print (\"Stacking two arrays vertically \\n\")\n",
    "c= np.vstack ((a,b))\n",
    "print (c)\n",
    "matrix_multiply= np.dot(a,b)\n",
    "print (\"Matrix multiplication \\n\")\n",
    "print (matrix_multiply)\n",
    "arr_sum=np.sum(matrix_multiply)\n",
    "print (\"Sum \\n \", (arr_sum) )\n"
   ]
  },
  {
   "cell_type": "markdown",
   "metadata": {},
   "source": [
    "Create the following pattern without hardcoding. Use only NumPy functions\n",
    "[1 1 1 2 2 2 3 3 3 1 2 3 1 2 3 1 2 3]"
   ]
  },
  {
   "cell_type": "code",
   "execution_count": 114,
   "metadata": {},
   "outputs": [
    {
     "name": "stdout",
     "output_type": "stream",
     "text": [
      "[1 1 1 2 2 2 3 3 3]\n",
      "[[1 2 3 1 2 3 1 2 3]]\n",
      "[1 1 1 2 2 2 3 3 3 1 2 3 1 2 3 1 2 3]\n"
     ]
    }
   ],
   "source": [
    "import numpy as np\n",
    "a= np.array ([[1,2,3]])\n",
    "b = np.repeat (a,3)\n",
    "print (b)\n",
    "c= np.tile (a,3)\n",
    "print (c)\n",
    "#print (np.repeat (a, 3))\n",
    "d= np.concatenate((b,c), axis=None)\n",
    "print (d)"
   ]
  },
  {
   "cell_type": "markdown",
   "metadata": {},
   "source": [
    "In two arrays a ( 1,2,3,4,5) and b ( 4,5,6,7,8,9) remove all repeating items present in array b."
   ]
  },
  {
   "cell_type": "code",
   "execution_count": 120,
   "metadata": {},
   "outputs": [
    {
     "name": "stdout",
     "output_type": "stream",
     "text": [
      "[1 2 3 4 5 4 5 6 7 8 9]\n",
      "[1, 2, 3, 4, 5, 6, 7, 8, 9]\n"
     ]
    }
   ],
   "source": [
    "a = ([1,2,3,4,5,])\n",
    "b= ([4,5,6,7,8,9])\n",
    "c= np.concatenate ((a,b), axis=None)\n",
    "print (c)\n",
    "new_arr = list( dict.fromkeys(c) )\n",
    "print(new_arr)"
   ]
  },
  {
   "cell_type": "markdown",
   "metadata": {},
   "source": [
    "Get all items between 3 and 7 from a and b and sum them together."
   ]
  },
  {
   "cell_type": "code",
   "execution_count": 134,
   "metadata": {},
   "outputs": [
    {
     "name": "stdout",
     "output_type": "stream",
     "text": [
      "[1 2 3 4 5 4 5 6 7 8 9]\n",
      "34\n"
     ]
    }
   ],
   "source": [
    "a = ([1,2,3,4,5,])\n",
    "b= ([4,5,6,7,8,9])\n",
    "c= np.concatenate ((a,b), axis=None)\n",
    "print (c)\n",
    "sum=0 \n",
    "for i in c: \n",
    "    if i>=3 and i<=7:\n",
    "        sum+=i\n",
    "print(sum)\n"
   ]
  }
 ],
 "metadata": {
  "interpreter": {
   "hash": "69f6454947396a1f8e42721382383fe2cfe4ef30a5af86ae8af885031e6513de"
  },
  "kernelspec": {
   "display_name": "Python 3.10.0 64-bit",
   "language": "python",
   "name": "python3"
  },
  "language_info": {
   "codemirror_mode": {
    "name": "ipython",
    "version": 3
   },
   "file_extension": ".py",
   "mimetype": "text/x-python",
   "name": "python",
   "nbconvert_exporter": "python",
   "pygments_lexer": "ipython3",
   "version": "3.8.8"
  },
  "orig_nbformat": 4
 },
 "nbformat": 4,
 "nbformat_minor": 2
}
