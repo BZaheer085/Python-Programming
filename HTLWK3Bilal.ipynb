{
 "cells": [
  {
   "cell_type": "markdown",
   "metadata": {},
   "source": [
    "Task 1 \n",
    "\n",
    "Write a program that allows you to enter 4 numbers\n",
    "and stores them in a file called “Numbers”\n",
    "3\n",
    "45\n",
    "83\n",
    "21\n",
    "Have a go at ‘w’ ‘r’ ‘a’"
   ]
  },
  {
   "cell_type": "code",
   "execution_count": 1,
   "metadata": {},
   "outputs": [],
   "source": [
    "my_file=open(\"Numbers.txt\", \"w\")\n",
    "f_number=input (\"Enter First Number \")\n",
    "s_number= input (\"Enter Second Number \")\n",
    "t_number= input (\"Enter Third Number \")\n",
    "l_number= input (\"Enter Last Number \")\n",
    "\n",
    "my_file.write(f_number)\n",
    "my_file.write(\"\\n\")\n",
    "my_file.write(s_number)\n",
    "my_file.write(\"\\n\")\n",
    "my_file.write(t_number)\n",
    "my_file.write(\"\\n\")\n",
    "my_file.write(l_number)\n",
    "\n",
    "my_file.close()\n",
    "\n"
   ]
  },
  {
   "cell_type": "markdown",
   "metadata": {},
   "source": [
    "Appending the file\n",
    "\n"
   ]
  },
  {
   "cell_type": "code",
   "execution_count": 8,
   "metadata": {},
   "outputs": [
    {
     "data": {
      "text/plain": [
       "1"
      ]
     },
     "execution_count": 8,
     "metadata": {},
     "output_type": "execute_result"
    }
   ],
   "source": [
    "my_file=open(\"Numbers.txt\", \"a\")\n",
    "f=input (\"Enter the content you want to add to the file 'Numbers' \")\n",
    "\n",
    "my_file.write(f)\n",
    "my_file.write(\"\\n\")"
   ]
  },
  {
   "cell_type": "markdown",
   "metadata": {},
   "source": [
    "Reading the file and printing the content of the file"
   ]
  },
  {
   "cell_type": "code",
   "execution_count": 6,
   "metadata": {},
   "outputs": [
    {
     "name": "stdout",
     "output_type": "stream",
     "text": [
      "56\n",
      "67\n",
      "80\n",
      "12021\n",
      "2021\n",
      "\n"
     ]
    }
   ],
   "source": [
    "my_file=open(\"Numbers.txt\", \"r\")\n",
    "\n",
    "print (my_file.read())"
   ]
  },
  {
   "cell_type": "markdown",
   "metadata": {},
   "source": [
    "Task 2\n",
    "\n",
    "Write a program to ask a student for their percentage mark and convert this to a grade.\n",
    "The conversion will be done in a function called mark_grade"
   ]
  },
  {
   "cell_type": "code",
   "execution_count": null,
   "metadata": {},
   "outputs": [],
   "source": [
    "print (\"Conversion from percentage mark to Grade\", \"\\n\")\n",
    "name= input (\"Enter your name \")\n",
    "print (\"Hello\", name)\n",
    "\n",
    "def mark_grade(marks):\n",
    "    if marks >=90 and marks < 101:\n",
    "        print (\"Your Grade is A+\")\n",
    "    elif marks >=80 and marks < 90:\n",
    "        print (\"Your Grade is A\")\n",
    "    elif marks >=75 and marks < 80:\n",
    "        print (\"Your Grade is B+\")\n",
    "    elif marks >69 and marks < 75:\n",
    "        print (\"Your Grade is B\")\n",
    "    elif marks > 64 and marks < 70:\n",
    "        print (\"Your Grade is C+\")\n",
    "    elif marks >54 and marks < 65:\n",
    "        print (\"Your Grade is C\")\n",
    "    elif marks >49 and marks < 60:\n",
    "        print (\"Your Grade is D\")\n",
    "    elif marks >39 and marks < 50:\n",
    "        print (\"Your Grade is E\")\n",
    "    elif marks >=0 and marks < 40:\n",
    "        print (\"Your Grade is F\")\n",
    "    else:\n",
    "        print (\"Error\")\n",
    "\n",
    "marks=int(input (\"Enter percentage marks between 0 and 100: \"))\n",
    "mark_grade(marks)\n",
    "\n",
    "target_grade= input(\"What's your target grade \")\n",
    "print (\"Target grade \",target_grade, \"Percentage Marks \",marks,\"%\")\n",
    "if target_grade == 'A+' or target_grade == 'a+':\n",
    "    print (\"Congratulations on your achievement, Target Grade is more than Exam Grade\")\n",
    "elif target_grade == 'B+' or target_grade=='b+':\n",
    "    print (\"Congratulations! you have achieved the Exam Grade\")\n",
    "else:\n",
    "    print (\"Unfortunately you haven't been successful on this occassion\")\n",
    "\n"
   ]
  }
 ],
 "metadata": {
  "interpreter": {
   "hash": "69f6454947396a1f8e42721382383fe2cfe4ef30a5af86ae8af885031e6513de"
  },
  "kernelspec": {
   "display_name": "Python 3.10.0 64-bit",
   "language": "python",
   "name": "python3"
  },
  "language_info": {
   "codemirror_mode": {
    "name": "ipython",
    "version": 3
   },
   "file_extension": ".py",
   "mimetype": "text/x-python",
   "name": "python",
   "nbconvert_exporter": "python",
   "pygments_lexer": "ipython3",
   "version": "3.10.0"
  },
  "orig_nbformat": 4
 },
 "nbformat": 4,
 "nbformat_minor": 2
}
