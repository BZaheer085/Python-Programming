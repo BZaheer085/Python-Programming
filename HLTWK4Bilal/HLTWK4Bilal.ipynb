{
 "cells": [
  {
   "cell_type": "markdown",
   "metadata": {},
   "source": [
    "# Task 1\n",
    "How many rows and columns are there in your file?"
   ]
  },
  {
   "cell_type": "code",
   "execution_count": 46,
   "metadata": {},
   "outputs": [
    {
     "name": "stdout",
     "output_type": "stream",
     "text": [
      "            Country  Feedback Score   Hotel  All Inclusive Hotels Most Visited City\n",
      "0            Spain                9  4 Star                    50            Malaga\n",
      "1            France               8  4 Star                    52             Paris\n",
      "2           Greece                7  4 Star                    20         Santorini\n",
      "3   United Kingdom                8  4 Star                    42            London\n",
      "4         Pakistan                7  3 Star                    17         Islamabad\n",
      "5           Turkey                9  5 Star                    20            Ankara\n",
      "6          Malaysia               6  4 Star                    12      Kaula Lumpur\n",
      "7               USA               5  5 Star                     7          New York\n",
      "8              UAE                9  5 star                     6             Dubai\n",
      "9         Indonesia              10  5 Star                    39              Bali\n",
      "10      Switzerland               9  4 Star                    24            Zurich\n",
      "11      New Zealand               7  3 Star                    54           Ackland\n",
      "12       Australia                5  3 Star                    73            Sydney\n",
      "13          Germany               1  4 star                    15            Berlin\n",
      "Number of Rows and Columns  (14, 5)\n"
     ]
    }
   ],
   "source": [
    "import pandas as pd\n",
    "# Sets out how many rows you want to display this data frame in 14 rows long, \n",
    "pd.set_option('display.max_rows', 500)\n",
    "\n",
    "#Reading file name Holiday.csv \n",
    "data_frame = pd.read_csv('Holiday.csv')\n",
    "#Printing out the whole dataframe\n",
    "print(data_frame.to_string()) \n",
    "\n",
    "print (\"Number of Rows and Columns \", data_frame.shape)"
   ]
  },
  {
   "cell_type": "markdown",
   "metadata": {},
   "source": [
    "# Task 2\n",
    "Print row 3-8 ( using iloc / loc)"
   ]
  },
  {
   "cell_type": "code",
   "execution_count": 43,
   "metadata": {},
   "outputs": [
    {
     "name": "stdout",
     "output_type": "stream",
     "text": [
      "           Country  Feedback Score   Hotel  All Inclusive Hotels  \\\n",
      "2          Greece                7  4 Star                    20   \n",
      "3  United Kingdom                8  4 Star                    42   \n",
      "4        Pakistan                7  3 Star                    17   \n",
      "5          Turkey                9  5 Star                    20   \n",
      "6         Malaysia               6  4 Star                    12   \n",
      "7              USA               5  5 Star                     7   \n",
      "\n",
      "  Most Visited City  \n",
      "2         Santorini  \n",
      "3            London  \n",
      "4         Islamabad  \n",
      "5            Ankara  \n",
      "6      Kaula Lumpur  \n",
      "7          New York  \n"
     ]
    },
    {
     "data": {
      "text/html": [
       "<div>\n",
       "<style scoped>\n",
       "    .dataframe tbody tr th:only-of-type {\n",
       "        vertical-align: middle;\n",
       "    }\n",
       "\n",
       "    .dataframe tbody tr th {\n",
       "        vertical-align: top;\n",
       "    }\n",
       "\n",
       "    .dataframe thead th {\n",
       "        text-align: right;\n",
       "    }\n",
       "</style>\n",
       "<table border=\"1\" class=\"dataframe\">\n",
       "  <thead>\n",
       "    <tr style=\"text-align: right;\">\n",
       "      <th></th>\n",
       "      <th>Country</th>\n",
       "      <th>Feedback Score</th>\n",
       "      <th>Hotel</th>\n",
       "      <th>All Inclusive Hotels</th>\n",
       "      <th>Most Visited City</th>\n",
       "    </tr>\n",
       "  </thead>\n",
       "  <tbody>\n",
       "    <tr>\n",
       "      <th>2</th>\n",
       "      <td>Greece</td>\n",
       "      <td>7</td>\n",
       "      <td>4 Star</td>\n",
       "      <td>20</td>\n",
       "      <td>Santorini</td>\n",
       "    </tr>\n",
       "    <tr>\n",
       "      <th>3</th>\n",
       "      <td>United Kingdom</td>\n",
       "      <td>8</td>\n",
       "      <td>4 Star</td>\n",
       "      <td>42</td>\n",
       "      <td>London</td>\n",
       "    </tr>\n",
       "    <tr>\n",
       "      <th>4</th>\n",
       "      <td>Pakistan</td>\n",
       "      <td>7</td>\n",
       "      <td>3 Star</td>\n",
       "      <td>17</td>\n",
       "      <td>Islamabad</td>\n",
       "    </tr>\n",
       "    <tr>\n",
       "      <th>5</th>\n",
       "      <td>Turkey</td>\n",
       "      <td>9</td>\n",
       "      <td>5 Star</td>\n",
       "      <td>20</td>\n",
       "      <td>Ankara</td>\n",
       "    </tr>\n",
       "    <tr>\n",
       "      <th>6</th>\n",
       "      <td>Malaysia</td>\n",
       "      <td>6</td>\n",
       "      <td>4 Star</td>\n",
       "      <td>12</td>\n",
       "      <td>Kaula Lumpur</td>\n",
       "    </tr>\n",
       "    <tr>\n",
       "      <th>7</th>\n",
       "      <td>USA</td>\n",
       "      <td>5</td>\n",
       "      <td>5 Star</td>\n",
       "      <td>7</td>\n",
       "      <td>New York</td>\n",
       "    </tr>\n",
       "    <tr>\n",
       "      <th>8</th>\n",
       "      <td>UAE</td>\n",
       "      <td>9</td>\n",
       "      <td>5 star</td>\n",
       "      <td>6</td>\n",
       "      <td>Dubai</td>\n",
       "    </tr>\n",
       "  </tbody>\n",
       "</table>\n",
       "</div>"
      ],
      "text/plain": [
       "           Country  Feedback Score   Hotel  All Inclusive Hotels  \\\n",
       "2          Greece                7  4 Star                    20   \n",
       "3  United Kingdom                8  4 Star                    42   \n",
       "4        Pakistan                7  3 Star                    17   \n",
       "5          Turkey                9  5 Star                    20   \n",
       "6         Malaysia               6  4 Star                    12   \n",
       "7              USA               5  5 Star                     7   \n",
       "8             UAE                9  5 star                     6   \n",
       "\n",
       "  Most Visited City  \n",
       "2         Santorini  \n",
       "3            London  \n",
       "4         Islamabad  \n",
       "5            Ankara  \n",
       "6      Kaula Lumpur  \n",
       "7          New York  \n",
       "8             Dubai  "
      ]
     },
     "execution_count": 43,
     "metadata": {},
     "output_type": "execute_result"
    }
   ],
   "source": [
    "import pandas as pd\n",
    "\n",
    "data_frame = pd.read_csv(\"Holiday.csv\")\n",
    "\n",
    "print (data_frame.iloc[2:8])\n",
    "data_frame.loc[[2,3,4,5,6,7,8],['Country','Feedback Score', 'Hotel', 'All Inclusive Hotels', 'Most Visited City']]"
   ]
  },
  {
   "cell_type": "markdown",
   "metadata": {},
   "source": [
    "# Task 3 \n",
    "Find the mean number of all inclusive hotels across all destinations.\n"
   ]
  },
  {
   "cell_type": "code",
   "execution_count": 2,
   "metadata": {},
   "outputs": [
    {
     "name": "stdout",
     "output_type": "stream",
     "text": [
      "Mean number of all inclusive hotels  1630.2857142857142\n"
     ]
    }
   ],
   "source": [
    "import pandas as pd\n",
    "\n",
    "data_frame = pd.read_csv('Holiday.csv')\n",
    "print (\"Mean number of all inclusive hotels \", data_frame[\"All Inclusive Hotels\"].mean())"
   ]
  },
  {
   "cell_type": "markdown",
   "metadata": {},
   "source": [
    "# Task 4 \n",
    "Find the lowest scoring destination.\n"
   ]
  },
  {
   "cell_type": "code",
   "execution_count": 6,
   "metadata": {},
   "outputs": [
    {
     "name": "stdout",
     "output_type": "stream",
     "text": [
      "       Country  Feedback Score   Hotel  All Inclusive Hotels Most Visited City\n",
      "7          USA               5  5 Star                  3292          New York\n",
      "12  Australia                5  3 Star                  1709            Sydney\n"
     ]
    }
   ],
   "source": [
    "import pandas as pd\n",
    "\n",
    "data_frame = pd.read_csv('Holiday.csv')\n",
    "\n",
    "my_filter=data_frame[data_frame['Feedback Score'] == data_frame['Feedback Score'].min() ]\n",
    "print (my_filter)\n"
   ]
  },
  {
   "cell_type": "markdown",
   "metadata": {},
   "source": [
    "# Task 5 \n",
    "Find the highest scoring destination.\n"
   ]
  },
  {
   "cell_type": "code",
   "execution_count": 7,
   "metadata": {},
   "outputs": [
    {
     "name": "stdout",
     "output_type": "stream",
     "text": [
      "     Country  Feedback Score   Hotel  All Inclusive Hotels Most Visited City\n",
      "9  Indonesia              10  5 Star                  2001              Bali\n"
     ]
    }
   ],
   "source": [
    "import pandas as pd\n",
    "\n",
    "data_frame = pd.read_csv('Holiday.csv')\n",
    "\n",
    "my_filter=data_frame[data_frame['Feedback Score'] == data_frame['Feedback Score'].max() ]\n",
    "print (my_filter)"
   ]
  },
  {
   "cell_type": "markdown",
   "metadata": {},
   "source": [
    "# Task 6 \n",
    "Find all the destinations where there are more than 9 all inclusive hotels.\n"
   ]
  },
  {
   "cell_type": "code",
   "execution_count": 10,
   "metadata": {},
   "outputs": [
    {
     "name": "stdout",
     "output_type": "stream",
     "text": [
      "            Country  Feedback Score   Hotel  All Inclusive Hotels  \\\n",
      "0            Spain                9  4 Star                    50   \n",
      "1            France               8  4 Star                    52   \n",
      "2           Greece                7  4 Star                    20   \n",
      "3   United Kingdom                8  4 Star                    42   \n",
      "4         Pakistan                7  3 Star                    17   \n",
      "5           Turkey                9  5 Star                    20   \n",
      "6          Malaysia               6  4 Star                    12   \n",
      "9         Indonesia              10  5 Star                    39   \n",
      "10      Switzerland               9  4 Star                    24   \n",
      "11      New Zealand               7  3 Star                    54   \n",
      "12       Australia                5  3 Star                    73   \n",
      "13          Germany               6  4 star                    15   \n",
      "\n",
      "   Most Visited City  \n",
      "0             Malaga  \n",
      "1              Paris  \n",
      "2          Santorini  \n",
      "3             London  \n",
      "4          Islamabad  \n",
      "5             Ankara  \n",
      "6       Kaula Lumpur  \n",
      "9               Bali  \n",
      "10            Zurich  \n",
      "11           Ackland  \n",
      "12            Sydney  \n",
      "13            Berlin  \n"
     ]
    }
   ],
   "source": [
    "import pandas as pd\n",
    "\n",
    "data_frame = pd.read_csv('Holiday.csv')\n",
    "\n",
    "my_filter= data_frame['All Inclusive Hotels'] > 9\n",
    "print (data_frame[my_filter])"
   ]
  },
  {
   "cell_type": "markdown",
   "metadata": {},
   "source": [
    "# Task 7\n",
    "Filter the data by score above 8.\n"
   ]
  },
  {
   "cell_type": "code",
   "execution_count": 12,
   "metadata": {},
   "outputs": [
    {
     "name": "stdout",
     "output_type": "stream",
     "text": [
      "        Country  Feedback Score   Hotel  All Inclusive Hotels  \\\n",
      "0        Spain                9  4 Star                    50   \n",
      "5       Turkey                9  5 Star                    20   \n",
      "8          UAE                9  5 star                     6   \n",
      "9     Indonesia              10  5 Star                    39   \n",
      "10  Switzerland               9  4 Star                    24   \n",
      "\n",
      "   Most Visited City  \n",
      "0             Malaga  \n",
      "5             Ankara  \n",
      "8              Dubai  \n",
      "9               Bali  \n",
      "10            Zurich  \n"
     ]
    }
   ],
   "source": [
    "import pandas as pd\n",
    "\n",
    "data_frame = pd.read_csv('Holiday.csv')\n",
    "\n",
    "my_filter= data_frame['Feedback Score'] > 8 \n",
    "print (data_frame[my_filter])"
   ]
  },
  {
   "cell_type": "markdown",
   "metadata": {},
   "source": [
    "# Task 8\n",
    "Filter the data score below 2 ( I need to know if these destinations should be removed or there is a problem)"
   ]
  },
  {
   "cell_type": "code",
   "execution_count": 16,
   "metadata": {},
   "outputs": [
    {
     "name": "stdout",
     "output_type": "stream",
     "text": [
      "    Country  Feedback Score   Hotel  All Inclusive Hotels Most Visited City\n",
      "13  Germany               1  4 star                    15            Berlin\n"
     ]
    }
   ],
   "source": [
    "import pandas as pd\n",
    "\n",
    "data_frame = pd.read_csv('Holiday.csv')\n",
    "my_filter= data_frame['Feedback Score'] < 2 \n",
    "print (data_frame[my_filter])"
   ]
  },
  {
   "cell_type": "markdown",
   "metadata": {},
   "source": [
    "# Extension\n",
    "# Task 9\n",
    "Is there a correlation between number of all inclusive hotels and score?\n",
    "*** Pearson’s r Value\tCorrelation Between x and y\n",
    "equal to 1\tperfect positive linear relationship\n",
    "greater than 0\tpositive correlation\n",
    "equal to 0\tno linear relationship\n",
    "less than 0\tnegative correlation\n",
    "equal to -1\tperfect negative linear relationship***"
   ]
  },
  {
   "cell_type": "code",
   "execution_count": 24,
   "metadata": {},
   "outputs": [
    {
     "name": "stdout",
     "output_type": "stream",
     "text": [
      "Pearson's r Value Correlation between 'All Inclusive Hotels and Feedback Score \n",
      " 0.13815415498299816\n",
      "AxesSubplot(0.125,0.125;0.775x0.755)\n"
     ]
    },
    {
     "data": {
      "image/png": "[encoded data removed]",
      "text/plain": [
       "<Figure size 432x288 with 1 Axes>"
      ]
     },
     "metadata": {
      "needs_background": "light"
     },
     "output_type": "display_data"
    }
   ],
   "source": [
    "import pandas as pd\n",
    "\n",
    "data_frame = pd.read_csv('Holiday.csv')\n",
    "\n",
    "correlation= data_frame['All Inclusive Hotels'].corr(data_frame['Feedback Score'])\n",
    "print (\"Pearson's r Value Correlation between 'All Inclusive Hotels and Feedback Score \\n\", correlation)\n",
    "\n",
    "print(data_frame.plot.scatter(x='All Inclusive Hotels', y='Feedback Score'))"
   ]
  },
  {
   "cell_type": "markdown",
   "metadata": {},
   "source": [
    "# Task 10\n",
    "Create a data visualisation diagram to show destination and highest scores?"
   ]
  },
  {
   "cell_type": "code",
   "execution_count": 25,
   "metadata": {},
   "outputs": [
    {
     "name": "stdout",
     "output_type": "stream",
     "text": [
      "AxesSubplot(0.125,0.125;0.775x0.755)\n"
     ]
    },
    {
     "data": {
      "image/png": "[encoded data removed]",
      "text/plain": [
       "<Figure size 432x288 with 1 Axes>"
      ]
     },
     "metadata": {
      "needs_background": "light"
     },
     "output_type": "display_data"
    }
   ],
   "source": [
    "import pandas as pd\n",
    "\n",
    "data_frame = pd.read_csv('Holiday.csv')\n",
    "print(data_frame.plot.bar(x = 'Country', y='Feedback Score'))\n",
    "\n",
    "\n"
   ]
  }
 ],
 "metadata": {
  "interpreter": {
   "hash": "dd0fb44711acc063ff0262190d0ade23562499615ee7cd40c0360bba80d1988f"
  },
  "kernelspec": {
   "display_name": "Python 3.8.8 64-bit ('base': conda)",
   "language": "python",
   "name": "python3"
  },
  "language_info": {
   "codemirror_mode": {
    "name": "ipython",
    "version": 3
   },
   "file_extension": ".py",
   "mimetype": "text/x-python",
   "name": "python",
   "nbconvert_exporter": "python",
   "pygments_lexer": "ipython3",
   "version": "3.8.8"
  },
  "orig_nbformat": 4
 },
 "nbformat": 4,
 "nbformat_minor": 2
}
