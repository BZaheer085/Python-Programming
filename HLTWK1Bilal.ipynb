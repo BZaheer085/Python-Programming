{
 "cells": [
  {
   "cell_type": "code",
   "execution_count": null,
   "metadata": {},
   "outputs": [
    {
     "name": "stdout",
     "output_type": "stream",
     "text": [
      "Hello World\n"
     ]
    }
   ],
   "source": [
    "print(\"Hello World\")"
   ]
  },
  {
   "cell_type": "markdown",
   "metadata": {},
   "source": [
    "Task 1\n",
    "Write a program that does the following:\n",
    "a) S\n",
    "tores a random number (1 10) in a variable see hint below.\n",
    "b) A\n",
    "sks a user for their name and stores this in a variable.\n",
    "c) Asks a user to guess the number between 1 and 10.\n",
    "d\n",
    ") Tells the user whether they have guessed correctly."
   ]
  },
  {
   "cell_type": "code",
   "execution_count": 22,
   "metadata": {},
   "outputs": [
    {
     "name": "stdout",
     "output_type": "stream",
     "text": [
      "Congratulations2you guessed it right\n"
     ]
    }
   ],
   "source": [
    "import random\n",
    "ran=random.randint(1,10)\n",
    "name= input (\"Enter your name here!\")\n",
    "guess= int(input(\"Enter number between 1 & 10\"))\n",
    "\n",
    "if (guess==ran):\n",
    "    print (\"Congratulations \" + name + \" you guessed it right\")\n",
    "else:\n",
    "    print(\"Unfortunately not the correct no.\")\n"
   ]
  },
  {
   "cell_type": "markdown",
   "metadata": {},
   "source": [
    "Task 2\n",
    "Write a program that asks a user for their favourite number between 1\n",
    "and 100 and then tells them a joke based on the number. You should\n",
    "use a minimum of 3 jokes."
   ]
  },
  {
   "cell_type": "code",
   "execution_count": 25,
   "metadata": {},
   "outputs": [
    {
     "name": "stdout",
     "output_type": "stream",
     "text": [
      "Why did Billy get fired from the banana factory? He kept throwing away the bent ones.\n"
     ]
    }
   ],
   "source": [
    "number= int(input (\"Enter number between 1 & 100 to see a joke\"))\n",
    "\n",
    "if (number<=25):\n",
    "    print (\"What do you call a factory that makes okay products?\" \"A satisfactory\")\n",
    "elif (number<=50):\n",
    "    print (\"Why did Billy get fired from the banana factory? He kept throwing away the bent ones.\")\n",
    "elif (number<=75):\n",
    "    print(\"Dad, can you put the cat out?\" \"I didn't know it was on fire.\")\n",
    "else: print(\"What do computers and air-conditioners have in common, Both become useless and you open Windows\")\n"
   ]
  },
  {
   "cell_type": "markdown",
   "metadata": {},
   "source": [
    "Task 3\n",
    "Write a program that allows user to enter their favourite starter, main\n",
    "course, dessert and drink.\n",
    "Concatenate these and output a message which says\n",
    "––“Your favourite\n",
    "meal is ………with a glass of….”"
   ]
  },
  {
   "cell_type": "code",
   "execution_count": 2,
   "metadata": {},
   "outputs": [
    {
     "name": "stdout",
     "output_type": "stream",
     "text": [
      "Your favourite meal is rice with a glass ofcoke.\n"
     ]
    }
   ],
   "source": [
    "starter= input(\"What's your favourite starter? \")\n",
    "mainCourse= input(\"What's your favourite main course? \")\n",
    "dessert= input (\"Enter your favourite dessert? \")\n",
    "drink= input (\"What drink you have with your meal? \")\n",
    "print (\"Your favourite meal is \" + mainCourse + \" with a glass of \" + drink +\".\")"
   ]
  },
  {
   "cell_type": "markdown",
   "metadata": {},
   "source": [
    "Task 4\n",
    "A motorbike costs £2000 and loses 10% of its value every year. Using a\n",
    "loop, print the value of the bike every following year until it falls below\n",
    "£1000."
   ]
  },
  {
   "cell_type": "code",
   "execution_count": 2,
   "metadata": {},
   "outputs": [
    {
     "name": "stdout",
     "output_type": "stream",
     "text": [
      "2000\n",
      "1800.0\n",
      "1620.0\n",
      "1458.0\n",
      "1312.2\n",
      "1180.98\n",
      "1062.882\n"
     ]
    }
   ],
   "source": [
    "valueOfBike=2000\n",
    "while valueOfBike<=2000:\n",
    "    print (valueOfBike)\n",
    "    valueOfBike=(valueOfBike-(valueOfBike*0.10))\n",
    "    if valueOfBike<1000:\n",
    "        break"
   ]
  },
  {
   "cell_type": "markdown",
   "metadata": {},
   "source": [
    "Task 5\n",
    "Write a program which will ask for two numbers from a user. Then\n",
    "offer a menu to the user giving them a choice of operator:\n",
    "e.g. Enter “a” if you want to add\n",
    "“b” if you want to subtract\n",
    "Include +,\n",
    "--, /, *, ** square (to the power of). Once the user has\n",
    "selected which operator they wish to use, perform the calculation."
   ]
  },
  {
   "cell_type": "code",
   "execution_count": 33,
   "metadata": {},
   "outputs": [
    {
     "name": "stdout",
     "output_type": "stream",
     "text": [
      "8\n"
     ]
    }
   ],
   "source": [
    "firstNo= int(input(\"Enter the first number\"))\n",
    "secondNo= int(input(\"Enter the second number\"))\n",
    "result=str(input (\"Which operation do you want to perform Enter 'a' to Add 'b' to Subtract 'c' for Devision 'd' to Multiply and 'e' to first number to power of second number\"))\n",
    "if result== \"a\":\n",
    "    print(firstNo+secondNo)\n",
    "elif result=='b':\n",
    "    print (firstNo-secondNo)\n",
    "elif result== 'c':\n",
    "    print (firstNo/secondNo)\n",
    "elif result== 'd':\n",
    "    print (firstNo*secondNo)\n",
    "elif result=='e':\n",
    "    print (firstNo**secondNo)"
   ]
  }
 ],
 "metadata": {
  "interpreter": {
   "hash": "69f6454947396a1f8e42721382383fe2cfe4ef30a5af86ae8af885031e6513de"
  },
  "kernelspec": {
   "display_name": "Python 3.10.0 64-bit",
   "language": "python",
   "name": "python3"
  },
  "language_info": {
   "codemirror_mode": {
    "name": "ipython",
    "version": 3
   },
   "file_extension": ".py",
   "mimetype": "text/x-python",
   "name": "python",
   "nbconvert_exporter": "python",
   "pygments_lexer": "ipython3",
   "version": "3.10.0"
  },
  "orig_nbformat": 4
 },
 "nbformat": 4,
 "nbformat_minor": 2
}
