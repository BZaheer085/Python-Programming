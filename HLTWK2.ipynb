{
 "cells": [
  {
   "cell_type": "markdown",
   "metadata": {},
   "source": [
    "Task 1\n",
    "\n",
    "Program to check if the number is a prime number"
   ]
  },
  {
   "cell_type": "code",
   "execution_count": 1,
   "metadata": {},
   "outputs": [
    {
     "name": "stdout",
     "output_type": "stream",
     "text": [
      "67  is a prime number\n"
     ]
    }
   ],
   "source": [
    "num= int (input (\"Enter the number to check if it's Prime no. \"))\n",
    "flag= 1\n",
    "if num > 1: \n",
    "    for i in range (2, num):\n",
    "        if (num  % i == 0):\n",
    "            print (num, \" is not prime number\")\n",
    "            flag= 0\n",
    "            break\n",
    "\n",
    "    if flag ==1:\n",
    "        print (num, \" is a prime number\")\n",
    "else: print (\"Prime numbers are greater than 1\")"
   ]
  },
  {
   "cell_type": "markdown",
   "metadata": {},
   "source": [
    "Task 2\n",
    "\n",
    "As an extension to the motorbike task that costs £2000 and loses 10% of its value every year. \n",
    "Set up a function that performs the calculation by passing in parameters. \n",
    "Then using a loop, print the value of the bike every following year until it falls below £1000."
   ]
  },
  {
   "cell_type": "code",
   "execution_count": null,
   "metadata": {},
   "outputs": [],
   "source": [
    "def function_1(valueOfBike):\n",
    "    while valueOfBike<=2000:\n",
    "        print (valueOfBike)\n",
    "        valueOfBike=(valueOfBike-(valueOfBike*0.10))\n",
    "        if valueOfBike<1000:\n",
    "            break\n",
    "\n",
    "function_1(2000)"
   ]
  },
  {
   "cell_type": "markdown",
   "metadata": {},
   "source": [
    "Task 3\n",
    "\n",
    "Write a program which will ask for two numbers\n",
    "from a user. Then offer an option menu to the user\n",
    "giving them a choice of maths operators. Once the\n",
    "user has selected which operator they wish to use,\n",
    "perform the calculation by using a procedure and\n",
    "passing parameters.\n"
   ]
  },
  {
   "cell_type": "code",
   "execution_count": null,
   "metadata": {},
   "outputs": [],
   "source": [
    "# defining function passing three parameters asking user to input two numbers and required action to perform\n",
    "def calculate(firstNo, secondNo, mathsOperator): \n",
    "    # condition to check users inputs '+' sign operator \n",
    "    if mathsOperator== \"+\":\n",
    "        # above condition is true, add two numbers                       \n",
    "        result=(firstNo+secondNo)\n",
    "        # display the result after adding two numbers          \n",
    "        print (result)\n",
    "    # condition to check users inputs '-' sign operator \n",
    "    elif mathsOperator=='-':\n",
    "        # subtracting the two numbers and assigning the result to variable 'result'                     \n",
    "        result= (firstNo-secondNo)\n",
    "        # displaying the result \n",
    "        print (result)\n",
    "    # condition to check if users inputs '/' sign operator \n",
    "    elif mathsOperator== '/':\n",
    "        # deviding the two numbers and assigning the result to variable 'result'\n",
    "        result= (firstNo/secondNo)\n",
    "        # displaying the value stored in variable result\n",
    "        print (result)\n",
    "    # condition to check if users inputs letter x \n",
    "    elif mathsOperator== 'x':\n",
    "        # multiplying the two numbers and assigning the result to variable 'result'\n",
    "        result= (firstNo*secondNo)\n",
    "        # displaying the value stored in variable result\n",
    "        print (result)\n",
    "    # condition to check if users inputs letter e\n",
    "    elif mathsOperator=='e':\n",
    "        # calculating first number to the power of second number and assigning the result to variable 'result'\n",
    "        result= (firstNo**secondNo)\n",
    "        # displaying the value stored in variable result\n",
    "        print (result)\n",
    "\n",
    "# asking the user for first number\n",
    "firstNo= int(input(\"Enter the first number \"))\n",
    "# asking the user for the second number\n",
    "secondNo= int(input(\"Enter the second number \"))\n",
    "# asking the user to enter arithmetic operator to perform the required operation \n",
    "mathsOperator=str(input (\"Enter required arithmetic operator to perform calculation '+' to Add '-' to Subtract '/' for Devision 'x' to Multiply and 'e' to first number to power of second number \"))\n",
    "# calling the function passing three arguments\n",
    "calculate(firstNo,secondNo,mathsOperator)"
   ]
  }
 ],
 "metadata": {
  "interpreter": {
   "hash": "69f6454947396a1f8e42721382383fe2cfe4ef30a5af86ae8af885031e6513de"
  },
  "kernelspec": {
   "display_name": "Python 3.10.0 64-bit",
   "language": "python",
   "name": "python3"
  },
  "language_info": {
   "codemirror_mode": {
    "name": "ipython",
    "version": 3
   },
   "file_extension": ".py",
   "mimetype": "text/x-python",
   "name": "python",
   "nbconvert_exporter": "python",
   "pygments_lexer": "ipython3",
   "version": "3.10.0"
  },
  "orig_nbformat": 4
 },
 "nbformat": 4,
 "nbformat_minor": 2
}
